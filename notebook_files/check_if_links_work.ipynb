{
 "cells": [
  {
   "cell_type": "code",
   "execution_count": 4,
   "id": "78c2ac5f-724b-4078-883d-38fd3124066a",
   "metadata": {},
   "outputs": [],
   "source": [
    "import os, sys\n",
    "import django\n",
    "PROJECTPATH = '/mnt/c/Users/liath1/coding/kodtjanst/'\n",
    "sys.path.insert(0, PROJECTPATH)\n",
    "os.environ.setdefault(\"DJANGO_SETTINGS_MODULE\", \"settings.local\")\n",
    "os.environ[\"DJANGO_ALLOW_ASYNC_UNSAFE\"] = \"true\"  # https://docs.djangoproject.com/en/4.1/topics/async/#async-safety\n",
    "os.chdir(PROJECTPATH)\n",
    "django.setup()"
   ]
  },
  {
   "cell_type": "code",
   "execution_count": 10,
   "id": "f4dd2dc2-4037-465c-89d9-c3ed97fee24d",
   "metadata": {},
   "outputs": [],
   "source": [
    "from kodtjanst.models import Kodverk, CodeableConceptAttributes\n",
    "\n",
    "import pandas as pd\n",
    "from pdb import set_trace\n",
    "from django.core.exceptions import MultipleObjectsReturned, ObjectDoesNotExist\n",
    "import requests"
   ]
  },
  {
   "cell_type": "code",
   "execution_count": 22,
   "id": "4a06c033-3e9f-4dc8-958b-a138c8bac46d",
   "metadata": {},
   "outputs": [
    {
     "name": "stdout",
     "output_type": "stream",
     "text": [
      "https://www.skatteverket.se/foretagochorganisationer/kontrolluppgifter/landskoder.4.361dc8c15312eff6fd147ce.html 200\n",
      "https://browser.ihtsdotools.org/ 423\n",
      "https://browser.ihtsdotools.org/?perspective 423\n",
      "https://www.socialstyrelsen.se/statistik-och-data/klassifikationer-och-koder/andra-kodverk/sjukhuskoder/ 200\n",
      "https://inera.atlassian.net/wiki/download/attachments/397444985/hsa_innehall_verksamhetskod_version_5.15_2022-04-20.pdf 404\n",
      "https://browser.ihtsdotools.org/? 423\n",
      "http://hl7.org/fhir/r4/valueset-request-status.html 200\n",
      "https://www.hl7.org/fhir/valueset-episode-of-care-status.html 200\n",
      "https://www.hl7.org/fhir/valueset-appointmentstatus.html 200\n",
      "https://browser.ihtsdotools.org/? 423\n",
      "http://terminology.hl7.org/CodeSystem/risk-probability 200\n",
      "https://browser.ihtsdotools.org/?perspective 423\n",
      "https://www.equalis.se/sv/produkter-tjanster/npu/npu-databasen-i-excel-format/ 200\n",
      "https://www.hl7.org/fhir/valueset-event-status.html 200\n",
      "https://www.scb.se/hitta-statistik/regional-statistik-och-kartor/regionala-indelningar/lan-och-kommuner/lan-och-kommuner-i-kodnummerordning/ 200\n",
      "https://www.scb.se/hitta-statistik/regional-statistik-och-kartor/regionala-indelningar/lan-och-kommuner/lan-och-kommuner-i-kodnummerordning/ 200\n",
      "https://browser.ihtsdotools.org/? 423\n",
      "http://hl7.org/fhir/R4/valueset-address-type.html 200\n",
      "https://www.hl7.org/fhir/valueset-address-use.html 200\n",
      "https://skatteverket.se/download/18.8cd61f61691938ed1ae23/1593765939548/na_TekniskBeskrivning.docx 200\n",
      "https://www.hl7.org/fhir/v2/0276/index.html 404\n",
      "https://www.socialstyrelsen.se/utveckla-verksamhet/e-halsa/klassificering-och-koder/icd-10/ 404\n",
      "https://pub.equalis.se/pub/extern/r/npu/npu-search 200\n",
      "https://dailybuild.ihtsdotools.org/?perspective 423\n",
      "https://iso639-3.sil.org/code_tables/639/data 200\n",
      "https://www.lantmateriet.se/sv/geodata/vara-produkter/produktlista/distriktsindelning-nedladdning-vektor/#steg 200\n",
      "https://browser.ihtsdotools.org/? 423\n",
      "https://inera.atlassian.net/wiki/download/attachments/397444985/hsa_innehall_agarform_version_3.4_2021-04-22.pdf 200\n",
      "https://simplifier.net/swedishnationalmedicationlist-21.4/nll-mpa-form/~overview 200\n",
      "https://www.socialstyrelsen.se/globalassets/sharepoint-dokument/dokument-webb/klassifikationer-och-koder/andringsorsaker_nkoo.xlsx 200\n",
      "https://simplifier.net/swedishnationalmedicationlist-21.4/nll-snomed-route/~overview 200\n",
      "https://simplifier.net/swedishnationalmedicationlist-21.4/nll-snomed-method 200\n",
      "https://samarbetsyta.ehalsomyndigheten.se/kodverk/kodverk-foer-administrering-och-dosering-i-nationella-laekemedelslistan 200\n",
      "https://samarbetsyta.ehalsomyndigheten.se/kodverk/kodverk-foer-administrering-och-dosering-i-nationella-laekemedelslistan 200\n",
      "https://samarbetsyta.ehalsomyndigheten.se/kodverk/kodverk-foer-administrering-och-dosering-i-nationella-laekemedelslistan 200\n",
      "https://samarbetsyta.ehalsomyndigheten.se/kodverk/kodverk-foer-administrering-och-dosering-i-nationella-laekemedelslistan 200\n",
      "https://simplifier.net/swedishnationalmedicationlist-21.4/nll-edqm-route 200\n",
      "https://simplifier.net/swedishnationalmedicationlist-21.4/nll-ucum-rate-unit 200\n",
      "https://www.fass.se/LIF/atcregister?userType 200\n",
      "https://simplifier.net/swedishnationalmedicationlist-21.4/narcotic-classification 200\n",
      "https://samarbetsyta.ehalsomyndigheten.se/kodverk/kodverk-foer-administrering-och-dosering-i-nationella-laekemedelslistan 200\n",
      "https://simplifier.net/swedishnationalmedicationlist-21.4/nll-event-timing 200\n",
      "https://simplifier.net/swedishnationalmedicationlist-21.4/nll-reason-for-cancellation/~overview 200\n",
      "https://samarbetsyta.ehalsomyndigheten.se/kodverk/kodverk-foer-administrering-och-dosering-i-nationella-laekemedelslistan 200\n",
      "https://simplifier.net/swedishnationalmedicationlist-21.4/nll-ucum-unit 200\n"
     ]
    }
   ],
   "source": [
    "for record in CodeableConceptAttributes.objects.all().values('källa'):\n",
    "    if (record.get('källa') is not None) and ('länk' in record.get('källa')):\n",
    "        url = record.get('källa').split(' ')[0].split('=')[1]\n",
    "        request = requests.get(url)\n",
    "        print(url, request.status_code)"
   ]
  },
  {
   "cell_type": "code",
   "execution_count": null,
   "id": "adc2a9d8-bd5b-4c23-9cd3-cd80100569fe",
   "metadata": {},
   "outputs": [],
   "source": [
    "new_term_list = []\n",
    "for index, row in df.iterrows():\n",
    "    try:\n",
    "        if Begrepp.objects.get(term=row.term):\n",
    "            continue            \n",
    "    except ObjectDoesNotExist as e:\n",
    "        print(e, row.Term)\n",
    "        new_term = Begrepp(\n",
    "            term = row.term,\n",
    "            definition = row.definition,\n",
    "            källa = 'GetLaboratoryOrderOutcomes version 4',\n",
    "            #anmärkningar = row.Anmärkningar,\n",
    "            status = row.status\n",
    "            beställare = Bestallare.objects.get(id=row.bestallare)\n",
    "            )\n",
    "        new_term_list.append(new_term)\n",
    "#Begrepp.objects.bulk_create(new_term_list)"
   ]
  },
  {
   "cell_type": "code",
   "execution_count": null,
   "id": "470664fb-cf92-4a72-a4de-469020b66cc0",
   "metadata": {},
   "outputs": [],
   "source": [
    "new_synonym_list = []\n",
    "for index, row in df.iterrows():\n",
    "    if (row.Synonym is not None) and (pd.isna(row.Synonym) == False):\n",
    "        try:\n",
    "            Begrepp.objects.get(term=row.Term)\n",
    "        except MultipleObjectsReturned as e:\n",
    "            print(e)\n",
    "            set_trace()\n",
    "        new_synonym_list.append(Synonym(\n",
    "                                        begrepp_id = Begrepp.objects.get(term=row.Term).id,\n",
    "                                        synonym = row.Synonym,\n",
    "                                        synonym_status = 'Beslutad'\n",
    "                                    )\n",
    "                               )\n",
    "        "
   ]
  },
  {
   "cell_type": "code",
   "execution_count": null,
   "id": "b782e47e-69b2-4651-989a-7832fe81a868",
   "metadata": {},
   "outputs": [],
   "source": [
    "Synonym.objects.bulk_create(new_synonym_list)"
   ]
  },
  {
   "cell_type": "code",
   "execution_count": null,
   "id": "ec071e63-6863-41de-98fd-8b177b68601a",
   "metadata": {},
   "outputs": [],
   "source": []
  }
 ],
 "metadata": {
  "kernelspec": {
   "display_name": "Python 3 (ipykernel)",
   "language": "python",
   "name": "python3"
  },
  "language_info": {
   "codemirror_mode": {
    "name": "ipython",
    "version": 3
   },
   "file_extension": ".py",
   "mimetype": "text/x-python",
   "name": "python",
   "nbconvert_exporter": "python",
   "pygments_lexer": "ipython3",
   "version": "3.10.6"
  }
 },
 "nbformat": 4,
 "nbformat_minor": 5
}
